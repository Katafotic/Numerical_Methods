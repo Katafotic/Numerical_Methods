{
 "cells": [
  {
   "cell_type": "markdown",
   "metadata": {},
   "source": [
    "# Lab 11\n",
    "# Biga V.S.\n",
    "# 3430302/90003\n",
    "# Var 3\n",
    "\n",
    "sin(x) + 2y - 2 = 0\n",
    "x + cos(y - 1) - 3 = 0\n",
    "\n",
    "Якобиан\n",
    "df_0/dx = cos(x)   df_0/dy = 2\n",
    "\n",
    "df_1/dx = 1     df_1/dy-sin(y-1)\n"
   ]
  },
  {
   "cell_type": "code",
   "execution_count": 4,
   "metadata": {},
   "outputs": [],
   "source": [
    "from pyimsl.math.zerosSysEqn import zerosSysEqn\n",
    "from pyimsl.math.writeMatrix import writeMatrix\n",
    "\n",
    "count_jacobi = 0"
   ]
  },
  {
   "cell_type": "code",
   "execution_count": 5,
   "metadata": {},
   "outputs": [],
   "source": [
    "def system(n, x, f):\n",
    "    f[0] = sin(x[0]) + 2*x[1] - 2\n",
    "    f[1] = x[0] + cos(x[1] - 1) - 3\n",
    "    \n",
    "def jacobian(n, x, fjac):\n",
    "    fjac[0] = cos(x[0])\n",
    "    fjac[1] = 2\n",
    "    \n",
    "    fjac[2] = 1\n",
    "    fjac[3] = -1*sin(y - 1)\n",
    "    count_jacobi += 1"
   ]
  },
  {
   "cell_type": "code",
   "execution_count": null,
   "metadata": {},
   "outputs": [],
   "source": [
    "print('Accuracy = 1.0e-5')\n",
    "number_roots = []\n",
    "nEvals_first = []\n",
    "roots_first_accuracy = zerosSysEqn(system, n=2, nEvals=nEvals_first, errRe;=1.0e-5)\n",
    "\n",
    "print(\"Найденые корня уравнения.\", roots_first_accuracy)\n",
    "print(\"Количество итераций = \", nEvals_first[0], \"\\tНаложеннок ограничение на число итераций - не более \", maxEvals)"
   ]
  }
 ],
 "metadata": {
  "kernelspec": {
   "display_name": "Python 3",
   "language": "python",
   "name": "python3"
  },
  "language_info": {
   "codemirror_mode": {
    "name": "ipython",
    "version": 3
   },
   "file_extension": ".py",
   "mimetype": "text/x-python",
   "name": "python",
   "nbconvert_exporter": "python",
   "pygments_lexer": "ipython3",
   "version": "3.8.5"
  }
 },
 "nbformat": 4,
 "nbformat_minor": 4
}
