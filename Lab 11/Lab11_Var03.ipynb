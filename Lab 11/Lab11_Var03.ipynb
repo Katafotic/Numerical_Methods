{
 "cells": [
  {
   "cell_type": "markdown",
   "metadata": {},
   "source": [
    "### Lab 11\n",
    "### Biga V.S.\n",
    "### 3430302/90003\n",
    "### Var 3\n",
    "---\n",
    "### sin(x) + 2y - 2 = 0 \n",
    "\n",
    "### x + cos(y - 1) - 3 = 0 \n",
    "\n",
    "## Якобиан:\n",
    "\n",
    "### $\\frac{\\partial f_0}{\\partial x}$ = cos(x)\n",
    "### $\\frac{\\partial f_1}{\\partial y}$ = 2\n",
    "\n",
    "### $\\frac{\\partial f_0}{\\partial x}$ = 1\n",
    "### $\\frac{\\partial f_1}{\\partial y}$ = -sin(y - 1)         \n",
    "\n",
    "---"
   ]
  },
  {
   "cell_type": "code",
   "execution_count": 47,
   "metadata": {},
   "outputs": [],
   "source": [
    "from pyimsl.math.zerosSysEqn import zerosSysEqn\n",
    "from pyimsl.math.writeMatrix import writeMatrix\n",
    "from math import sin, cos\n",
    "# zeroSysEqn выдает результат в виде ndarray\n",
    "from numpy import ndarray\n",
    "\n",
    "counter_system, counter_jacobian = 0, 0\n"
   ]
  },
  {
   "cell_type": "code",
   "execution_count": 48,
   "metadata": {},
   "outputs": [],
   "source": [
    "def system(n, x, f):\n",
    "    # x - список, хранящий переменные\n",
    "    # x[0] - первая переменная - X\n",
    "    # x[1] - вторая переменная - Y\n",
    "    \n",
    "    f[0] = sin(x[0]) + 2*x[1] - 2\n",
    "    f[1] = x[0] + cos(x[1] - 1) - 3\n",
    "    \n",
    "    global counter_system \n",
    "    counter_system += 1\n",
    "    \n",
    "def jacobian(n, x, fjac):\n",
    "    fjac[0] = cos(x[0])\n",
    "    fjac[1] = 2\n",
    "    \n",
    "    fjac[2] = 1\n",
    "    fjac[3] = -1*sin(x[1] - 1)\n",
    "\n",
    "    global counter_jacobian\n",
    "    counter_jacobian += 1"
   ]
  },
  {
   "cell_type": "code",
   "execution_count": 49,
   "metadata": {},
   "outputs": [
    {
     "name": "stdout",
     "output_type": "stream",
     "text": [
      "Accuracy = 1.0e-5\n",
      "Число вызовов system() =  9\n",
      "Число вызовов jacobian() =  1\n",
      "Accuracy = 1.0e-5\n",
      "Число вызовов system() =  11\n"
     ]
    }
   ],
   "source": [
    "print('Accuracy = 1.0e-5')\n",
    "number_roots = []\n",
    "nEvals_first = []\n",
    "roots_first_accuracy = zerosSysEqn(fcn=system, n=2, jacobian=jacobian, errRel=1.0e-5)\n",
    "\n",
    "print(\"Число вызовов system() = \", counter_system)\n",
    "print(\"Число вызовов jacobian() = \", counter_jacobian)\n",
    "\n",
    "print('Accuracy = 1.0e-5')\n",
    "counter_system, counter_jacobian = 0, 0\n",
    "\n",
    "number_roots = []\n",
    "nEvals_first = []\n",
    "roots_first_accuracy = zerosSysEqn(fcn=system, n=2, errRel=1.0e-5)\n",
    "\n",
    "print(\"Число вызовов system() = \", counter_system)\n",
    "#print(\"Число вызовов jacobian() = \", counter_jacobian)"
   ]
  },
  {
   "cell_type": "code",
   "execution_count": 50,
   "metadata": {},
   "outputs": [
    {
     "name": "stdout",
     "output_type": "stream",
     "text": [
      "Accuracy = 1.0e-6\n",
      "Число вызовов system() =  10\n",
      "Число вызовов jacobian() =  1\n",
      "Accuracy = 1.0e-6\n",
      "Число вызовов system() =  12\n"
     ]
    }
   ],
   "source": [
    "print('Accuracy = 1.0e-6')\n",
    "number_roots = []\n",
    "nEvals_second = []\n",
    "\n",
    "counter_system, counter_jacobian = 0, 0\n",
    "roots_second_accuracy = zerosSysEqn(fcn=system, n=2, jacobian=jacobian, errRel=1.0e-6)\n",
    "\n",
    "print(\"Число вызовов system() = \", counter_system)\n",
    "print(\"Число вызовов jacobian() = \", counter_jacobian)\n",
    "\n",
    "print('Accuracy = 1.0e-6')\n",
    "counter_system, counter_jacobian = 0, 0\n",
    "\n",
    "number_roots = []\n",
    "nEvals_second = []\n",
    "\n",
    "counter_system, counter_jacobian = 0, 0\n",
    "roots_second_accuracy = zerosSysEqn(fcn=system, n=2, errRel=1.0e-6)\n",
    "\n",
    "print(\"Число вызовов system() = \", counter_system)\n",
    "#print(\"Число вызовов jacobian() = \", counter_jacobian)"
   ]
  },
  {
   "cell_type": "code",
   "execution_count": 51,
   "metadata": {},
   "outputs": [
    {
     "name": "stdout",
     "output_type": "stream",
     "text": [
      "Первая переменная - X, вторая - Y\n",
      "\n",
      "Variable | Точность 1.0e-5  |  Точность 1.0e-6  |          Невязка\n",
      "X1 \t |  2.092493564696  |   2.092493532742  |  -3.195463182948e-08\n",
      "X2 \t | 0.5665127713669  |  0.5665126889787  |  -8.238824544815e-08\n"
     ]
    }
   ],
   "source": [
    "nullity = roots_second_accuracy - roots_first_accuracy\n",
    "print(\"Первая переменная - X, вторая - Y\", end='\\n\\n')\n",
    "print(\"%8s | %15s  |  %15s  |  %15s\" % (\"Variable\", \"Точность 1.0e-5\", \"Точность 1.0e-6\", \"Невязка\" ))      \n",
    "for i in range(len(roots_first_accuracy)):\n",
    "    print(\"X%i \\t | %15.13g  |  %15.13g  |  %15.13g\" % (i + 1, roots_first_accuracy[i], roots_second_accuracy[i], nullity[i]))"
   ]
  }
 ],
 "metadata": {
  "kernelspec": {
   "display_name": "Python 3",
   "language": "python",
   "name": "python3"
  },
  "language_info": {
   "codemirror_mode": {
    "name": "ipython",
    "version": 3
   },
   "file_extension": ".py",
   "mimetype": "text/x-python",
   "name": "python",
   "nbconvert_exporter": "python",
   "pygments_lexer": "ipython3",
   "version": "3.8.5"
  }
 },
 "nbformat": 4,
 "nbformat_minor": 4
}
