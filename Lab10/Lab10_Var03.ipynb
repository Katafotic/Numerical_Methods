{
 "cells": [
  {
   "cell_type": "markdown",
   "metadata": {},
   "source": [
    "https://help.imsl.com/python/current/docs/math/nonlinear/zerosFunction.html\n",
    "# Lab 10\n",
    "# Biga V.S.\n",
    "# 3430302/90003\n",
    "# Var 3\n",
    "\n",
    "## (x - 3)*cos(x) - 1 = 0, |x| < 2$\\Pi$\n",
    "Очевидно, что корней не более 4-х т.к. cos(x) - функция 2$\\Pi$ периодическая, в одном периоде она принимает одно и тоже значение дважды\n",
    "\n",
    "F(x)= (x - 3)*cos(x) - 1\n",
    "\n",
    "D(F) = (-2$\\Pi$; 2$\\Pi$)\n"
   ]
  },
  {
   "cell_type": "code",
   "execution_count": 12,
   "metadata": {},
   "outputs": [],
   "source": [
    "from pyimsl.math.zerosFunction import zerosFunction\n",
    "from math import cos\n",
    "from pyimsl.math.writeMatrix import writeMatrix\n",
    "import numpy as np\n",
    "from sympy import *"
   ]
  },
  {
   "cell_type": "code",
   "execution_count": 13,
   "metadata": {},
   "outputs": [],
   "source": [
    "def F(x):\n",
    "    return (x - 3)*cos(x) - 1\n",
    "# default maxEvals = 100\n",
    "maxEvals = 500"
   ]
  },
  {
   "cell_type": "code",
   "execution_count": 14,
   "metadata": {},
   "outputs": [
    {
     "name": "stdout",
     "output_type": "stream",
     "text": [
      "Accuracy = 1.0e-5\n",
      "***\n",
      "*** Warning error issued from IMSL function zerosFunction:\n",
      "*** The maximum number of function evaluations, 100, has been exceeded with only 3 of the requested 4 roots found.\n",
      "***\n",
      "Найдено 3 корня уравнения.\n",
      "Количество итераций =  100 \tНаложеннок ограничение на число итераций - не более  500\n"
     ]
    }
   ],
   "source": [
    "print('Accuracy = 1.0e-5')\n",
    "number_roots = []\n",
    "nEvals_first = []\n",
    "roots_first_accuracy = zerosFunction(F, numRoots=4, numRootsFound=number_roots, nEvals=nEvals_first, errX=1.0e-5, bound={'a': -2*pi, 'b':2*pi})\n",
    "\n",
    "print(\"Найдено\", number_roots[0], \"корня уравнения.\")\n",
    "print(\"Количество итераций = \", nEvals_first[0], \"\\tНаложеннок ограничение на число итераций - не более \", maxEvals)"
   ]
  },
  {
   "cell_type": "code",
   "execution_count": 15,
   "metadata": {},
   "outputs": [
    {
     "name": "stdout",
     "output_type": "stream",
     "text": [
      "Accuracy = 1.0e-6\n",
      "Найдено 3 корня уравнения.\n",
      "Количество итераций =  26 \tНаложеннок ограничение на число итераций - не более  500\n"
     ]
    }
   ],
   "source": [
    "print('Accuracy = 1.0e-6')\n",
    "nEvals_second = []\n",
    "# Теперь число корней известно, заложим это в функцию\n",
    "roots_second_accuracy = zerosFunction(F, numRoots=number_roots[0], nEvals=nEvals_second, maxEvals=maxEvals, errX=1.0e-6, bound={'a': -2*pi, 'b':2*pi})\n",
    "\n",
    "print(\"Найдено\", number_roots[0], \"корня уравнения.\")\n",
    "print(\"Количество итераций = \", nEvals_second[0], \"\\tНаложеннок ограничение на число итераций - не более \", maxEvals)"
   ]
  },
  {
   "cell_type": "code",
   "execution_count": 16,
   "metadata": {},
   "outputs": [
    {
     "name": "stdout",
     "output_type": "stream",
     "text": [
      "Точность 1.0e-5  |  Точность 1.0e-5  |          Невязка\n",
      "-4.580083521024  |  -4.580079021024  |  4.500000000185e-06\n",
      "-1.781495486284  |  -1.781492012547  |  3.473736741588e-06\n",
      " 5.187227046955  |   5.187231546955  |  4.500000000185e-06\n"
     ]
    }
   ],
   "source": [
    "nullity = roots_second_accuracy - roots_first_accuracy\n",
    "print(\"%15s  |  %15s  |  %15s\" % (\"Точность 1.0e-5\", \"Точность 1.0e-5\", \"Невязка\" ))      \n",
    "for i in range(number_roots[0]):\n",
    "    print(\"%15.13g  |  %15.13g  |  %15.13g\" % (roots_first_accuracy[i], roots_second_accuracy[i], nullity[i]))"
   ]
  },
  {
   "cell_type": "code",
   "execution_count": null,
   "metadata": {},
   "outputs": [],
   "source": []
  }
 ],
 "metadata": {
  "kernelspec": {
   "display_name": "Python 3",
   "language": "python",
   "name": "python3"
  },
  "language_info": {
   "codemirror_mode": {
    "name": "ipython",
    "version": 3
   },
   "file_extension": ".py",
   "mimetype": "text/x-python",
   "name": "python",
   "nbconvert_exporter": "python",
   "pygments_lexer": "ipython3",
   "version": "3.8.5"
  }
 },
 "nbformat": 4,
 "nbformat_minor": 4
}
