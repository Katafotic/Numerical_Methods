{
 "cells": [
  {
   "cell_type": "markdown",
   "metadata": {},
   "source": [
    "https://help.imsl.com/python/current/docs/math/nonlinear/zerosFunction.html\n",
    "# Lab 10\n",
    "# Biga V.S.\n",
    "# 3430302/90003\n",
    "# Var 3\n",
    "\n",
    "## (x - 3)*cos(x) - 1 = 0, |x| < 2$\\Pi$\n",
    "Очевидно, что корней не более 4-х т.к. cos(x) - функция 2$\\Pi$ периодическая, в одном периоде она принимает одно и тоже значение дважды\n",
    "\n",
    "F(x)= (x - 3)*cos(x) - 1\n",
    "\n",
    "D(F) = (-2$\\Pi$; 2$\\Pi$)\n"
   ]
  },
  {
   "cell_type": "code",
   "execution_count": 7,
   "metadata": {},
   "outputs": [],
   "source": [
    "from pyimsl.math.zerosFunction import zerosFunction\n",
    "from math import cos\n",
    "from pyimsl.math.writeMatrix import writeMatrix\n",
    "import numpy as np\n",
    "from sympy import *"
   ]
  },
  {
   "cell_type": "code",
   "execution_count": 8,
   "metadata": {},
   "outputs": [],
   "source": [
    "def F(x):\n",
    "    return (x - 3)*cos(x) - 1\n",
    "# default maxEvals = 100\n",
    "maxEvals = 500"
   ]
  },
  {
   "cell_type": "code",
   "execution_count": 9,
   "metadata": {},
   "outputs": [
    {
     "name": "stdout",
     "output_type": "stream",
     "text": [
      "Accuracy = 1.0e-5\n",
      "***\n",
      "*** Warning error issued from IMSL function zerosFunction:\n",
      "*** The maximum number of function evaluations, 100, has been exceeded with only 3 of the requested 4 roots found.\n",
      "***\n",
      "Найдено 3 корня уравнения.\n",
      "Количество итераций =  100 \tНаложеннок ограничение на число итераций - не более  500\n"
     ]
    }
   ],
   "source": [
    "print('Accuracy = 1.0e-5')\n",
    "number_roots = []\n",
    "nEvals_first = []\n",
    "roots_first_accuracy = zerosFunction(F, numRoots=4, numRootsFound=number_roots, nEvals=nEvals_first, errX=1.0e-5, bound={'a': -2*pi, 'b':2*pi})\n",
    "\n",
    "print(\"Найдено\", number_roots[0], \"корня уравнения.\")\n",
    "print(\"Количество итераций = \", nEvals_first[0], \"\\tНаложеннок ограничение на число итераций - не более \", maxEvals)"
   ]
  },
  {
   "cell_type": "code",
   "execution_count": 10,
   "metadata": {},
   "outputs": [
    {
     "name": "stdout",
     "output_type": "stream",
     "text": [
      "Accuracy = 1.0e-6\n",
      "Найдено 3 корня уравнения.\n",
      "Количество итераций =  26 \tНаложеннок ограничение на число итераций - не более  500\n"
     ]
    }
   ],
   "source": [
    "print('Accuracy = 1.0e-6')\n",
    "nEvals_second = []\n",
    "# Теперь число корней известно, заложим это в функцию\n",
    "roots_second_accuracy = zerosFunction(F, numRoots=number_roots[0], nEvals=nEvals_second, maxEvals=maxEvals, errX=1.0e-6, bound={'a': -2*pi, 'b':2*pi})\n",
    "\n",
    "print(\"Найдено\", number_roots[0], \"корня уравнения.\")\n",
    "print(\"Количество итераций = \", nEvals_second[0], \"\\tНаложеннок ограничение на число итераций - не более \", maxEvals)"
   ]
  },
  {
   "cell_type": "code",
   "execution_count": 11,
   "metadata": {},
   "outputs": [
    {
     "name": "stdout",
     "output_type": "stream",
     "text": [
      "Точность 1.0e-5  |  Точность 1.0e-5  |          Невязка\n",
      "-4.580083521024  |  -4.580079021024  |  4.500000000185e-06\n",
      "-1.781495486284  |  -1.781492012547  |  3.473736741588e-06\n",
      " 5.187227046955  |   5.187231546955  |  4.500000000185e-06\n"
     ]
    }
   ],
   "source": [
    "nullity = roots_second_accuracy - roots_first_accuracy\n",
    "print(\"%15s  |  %15s  |  %15s\" % (\"Точность 1.0e-5\", \"Точность 1.0e-5\", \"Невязка\" ))      \n",
    "for i in range(number_roots[0]):\n",
    "    print(\"%15.13g  |  %15.13g  |  %15.13g\" % (roots_first_accuracy[i], roots_second_accuracy[i], nullity[i]))"
   ]
  },
  {
   "cell_type": "code",
   "execution_count": 12,
   "metadata": {},
   "outputs": [
    {
     "ename": "TypeError",
     "evalue": "data type not understood",
     "output_type": "error",
     "traceback": [
      "\u001b[0;31m---------------------------------------------------------------------------\u001b[0m",
      "\u001b[0;31mTypeError\u001b[0m                                 Traceback (most recent call last)",
      "\u001b[0;32m<ipython-input-12-07730d44f3ce>\u001b[0m in \u001b[0;36m<module>\u001b[0;34m\u001b[0m\n\u001b[0;32m----> 1\u001b[0;31m \u001b[0mx_dots\u001b[0m \u001b[0;34m=\u001b[0m \u001b[0mnp\u001b[0m\u001b[0;34m.\u001b[0m\u001b[0mlinspace\u001b[0m\u001b[0;34m(\u001b[0m\u001b[0;34m-\u001b[0m\u001b[0;36m2\u001b[0m\u001b[0;34m*\u001b[0m\u001b[0mpi\u001b[0m\u001b[0;34m,\u001b[0m \u001b[0;36m2\u001b[0m\u001b[0;34m*\u001b[0m\u001b[0mpi\u001b[0m\u001b[0;34m,\u001b[0m \u001b[0;36m200\u001b[0m\u001b[0;34m,\u001b[0m \u001b[0mendpoint\u001b[0m\u001b[0;34m=\u001b[0m\u001b[0;32mTrue\u001b[0m\u001b[0;34m)\u001b[0m\u001b[0;34m\u001b[0m\u001b[0;34m\u001b[0m\u001b[0m\n\u001b[0m",
      "\u001b[0;32m<__array_function__ internals>\u001b[0m in \u001b[0;36mlinspace\u001b[0;34m(*args, **kwargs)\u001b[0m\n",
      "\u001b[0;32m~/.local/lib/python3.8/site-packages/numpy/core/function_base.py\u001b[0m in \u001b[0;36mlinspace\u001b[0;34m(start, stop, num, endpoint, retstep, dtype, axis)\u001b[0m\n\u001b[1;32m    130\u001b[0m     \u001b[0mstop\u001b[0m  \u001b[0;34m=\u001b[0m \u001b[0masanyarray\u001b[0m\u001b[0;34m(\u001b[0m\u001b[0mstop\u001b[0m\u001b[0;34m)\u001b[0m  \u001b[0;34m*\u001b[0m \u001b[0;36m1.0\u001b[0m\u001b[0;34m\u001b[0m\u001b[0;34m\u001b[0m\u001b[0m\n\u001b[1;32m    131\u001b[0m \u001b[0;34m\u001b[0m\u001b[0m\n\u001b[0;32m--> 132\u001b[0;31m     \u001b[0mdt\u001b[0m \u001b[0;34m=\u001b[0m \u001b[0mresult_type\u001b[0m\u001b[0;34m(\u001b[0m\u001b[0mstart\u001b[0m\u001b[0;34m,\u001b[0m \u001b[0mstop\u001b[0m\u001b[0;34m,\u001b[0m \u001b[0mfloat\u001b[0m\u001b[0;34m(\u001b[0m\u001b[0mnum\u001b[0m\u001b[0;34m)\u001b[0m\u001b[0;34m)\u001b[0m\u001b[0;34m\u001b[0m\u001b[0;34m\u001b[0m\u001b[0m\n\u001b[0m\u001b[1;32m    133\u001b[0m     \u001b[0;32mif\u001b[0m \u001b[0mdtype\u001b[0m \u001b[0;32mis\u001b[0m \u001b[0;32mNone\u001b[0m\u001b[0;34m:\u001b[0m\u001b[0;34m\u001b[0m\u001b[0;34m\u001b[0m\u001b[0m\n\u001b[1;32m    134\u001b[0m         \u001b[0mdtype\u001b[0m \u001b[0;34m=\u001b[0m \u001b[0mdt\u001b[0m\u001b[0;34m\u001b[0m\u001b[0;34m\u001b[0m\u001b[0m\n",
      "\u001b[0;32m<__array_function__ internals>\u001b[0m in \u001b[0;36mresult_type\u001b[0;34m(*args, **kwargs)\u001b[0m\n",
      "\u001b[0;31mTypeError\u001b[0m: data type not understood"
     ]
    }
   ],
   "source": [
    "x_dots = np.linspace(-2*pi, 2*pi, 200, endpoint=True)"
   ]
  },
  {
   "cell_type": "code",
   "execution_count": null,
   "metadata": {},
   "outputs": [],
   "source": []
  }
 ],
 "metadata": {
  "kernelspec": {
   "display_name": "Python 3",
   "language": "python",
   "name": "python3"
  },
  "language_info": {
   "codemirror_mode": {
    "name": "ipython",
    "version": 3
   },
   "file_extension": ".py",
   "mimetype": "text/x-python",
   "name": "python",
   "nbconvert_exporter": "python",
   "pygments_lexer": "ipython3",
   "version": "3.8.5"
  }
 },
 "nbformat": 4,
 "nbformat_minor": 4
}
