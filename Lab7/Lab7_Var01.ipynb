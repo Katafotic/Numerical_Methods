{
 "cells": [
  {
   "cell_type": "code",
   "execution_count": 8,
   "metadata": {},
   "outputs": [],
   "source": [
    "import sympy as sym\n",
    "import numpy as np\n",
    "import pyimsl\n",
    "from math import pi, sin"
   ]
  },
  {
   "cell_type": "code",
   "execution_count": 9,
   "metadata": {},
   "outputs": [],
   "source": [
    "num_function_nodes = [10, 20, 40, 80, 160]\n",
    "a, b = -pi/4, pi/4\n",
    "f = lambda x : sin(x)*sin(x)\n",
    "x_i = lambda i : a + i*(b - a)/(4*num_function_nodes(i))\n",
    "spline = lambda i : f(x_i) - 0.125\n",
    "def epsilon(N):\n",
    "    h = lambda i: (b - a)/(4*N)\n",
    "    max_delta = None\n",
    "    for i in range(4*N + 1):\n",
    "        x_i = a + i*h(i)\n",
    "        difference = abs(f(x_i) - spline(x_i))\n",
    "        max_delta = max_delta if max_delta < difference else difference  \n",
    "    return max_delta"
   ]
  },
  {
   "cell_type": "code",
   "execution_count": 10,
   "metadata": {},
   "outputs": [],
   "source": [
    "a = -pi/4\n",
    "b = pi/4\n",
    "F = lambda x : (sin(x))**2\n",
    "number_partions = [10, 20, 40, 80, 160]\n",
    "x_value = lambda i: a + i*((b - a)/(4*N)) "
   ]
  },
  {
   "cell_type": "code",
   "execution_count": 11,
   "metadata": {},
   "outputs": [
    {
     "ename": "TypeError",
     "evalue": "'function' object is not iterable",
     "output_type": "error",
     "traceback": [
      "\u001b[0;31m---------------------------------------------------------------------------\u001b[0m",
      "\u001b[0;31mTypeError\u001b[0m                                 Traceback (most recent call last)",
      "\u001b[0;32m<ipython-input-11-3ee078df3ef7>\u001b[0m in \u001b[0;36m<module>\u001b[0;34m\u001b[0m\n\u001b[1;32m      2\u001b[0m     \u001b[0mxdata\u001b[0m \u001b[0;34m=\u001b[0m \u001b[0;34m[\u001b[0m\u001b[0mx_value\u001b[0m\u001b[0;34m(\u001b[0m\u001b[0mi\u001b[0m\u001b[0;34m)\u001b[0m \u001b[0;32mfor\u001b[0m \u001b[0mi\u001b[0m \u001b[0;32min\u001b[0m \u001b[0mrange\u001b[0m\u001b[0;34m(\u001b[0m\u001b[0;36m4\u001b[0m\u001b[0;34m*\u001b[0m\u001b[0mN\u001b[0m \u001b[0;34m+\u001b[0m \u001b[0;36m1\u001b[0m\u001b[0;34m)\u001b[0m\u001b[0;34m]\u001b[0m\u001b[0;34m\u001b[0m\u001b[0;34m\u001b[0m\u001b[0m\n\u001b[1;32m      3\u001b[0m     \u001b[0;31m#xdata = list(map(lambda i: x_value(i), x_i))\u001b[0m\u001b[0;34m\u001b[0m\u001b[0;34m\u001b[0m\u001b[0;34m\u001b[0m\u001b[0m\n\u001b[0;32m----> 4\u001b[0;31m     \u001b[0mydata\u001b[0m \u001b[0;34m=\u001b[0m \u001b[0mlist\u001b[0m\u001b[0;34m(\u001b[0m\u001b[0mmap\u001b[0m\u001b[0;34m(\u001b[0m\u001b[0;32mlambda\u001b[0m \u001b[0mi\u001b[0m\u001b[0;34m:\u001b[0m \u001b[0mF\u001b[0m\u001b[0;34m(\u001b[0m\u001b[0mi\u001b[0m\u001b[0;34m)\u001b[0m\u001b[0;34m,\u001b[0m \u001b[0mx_i\u001b[0m\u001b[0;34m)\u001b[0m\u001b[0;34m)\u001b[0m\u001b[0;34m\u001b[0m\u001b[0;34m\u001b[0m\u001b[0m\n\u001b[0m\u001b[1;32m      5\u001b[0m     \u001b[0mspline_struct\u001b[0m \u001b[0;34m=\u001b[0m \u001b[0mcubSplineInterpECnd\u001b[0m\u001b[0;34m(\u001b[0m\u001b[0mx_i\u001b[0m\u001b[0;34m,\u001b[0m \u001b[0my_i\u001b[0m\u001b[0;34m)\u001b[0m\u001b[0;34m\u001b[0m\u001b[0;34m\u001b[0m\u001b[0m\n\u001b[1;32m      6\u001b[0m     \u001b[0mspline_value\u001b[0m \u001b[0;34m=\u001b[0m \u001b[0mlist\u001b[0m\u001b[0;34m(\u001b[0m\u001b[0mmap\u001b[0m\u001b[0;34m(\u001b[0m\u001b[0;32mlambda\u001b[0m \u001b[0mi\u001b[0m\u001b[0;34m:\u001b[0m \u001b[0mcubSplineValue\u001b[0m\u001b[0;34m(\u001b[0m\u001b[0mi\u001b[0m\u001b[0;34m,\u001b[0m \u001b[0mspline_struct\u001b[0m\u001b[0;34m)\u001b[0m\u001b[0;34m,\u001b[0m \u001b[0mx_i\u001b[0m\u001b[0;34m)\u001b[0m\u001b[0;34m)\u001b[0m\u001b[0;34m\u001b[0m\u001b[0;34m\u001b[0m\u001b[0m\n",
      "\u001b[0;31mTypeError\u001b[0m: 'function' object is not iterable"
     ]
    }
   ],
   "source": [
    "for N in number_partions:\n",
    "    xdata = [x_value(i) for i in range(4*N + 1)]\n",
    "    #xdata = list(map(lambda i: x_value(i), x_i))\n",
    "    ydata = list(map(lambda i: F(i), x_i))\n",
    "    spline_struct = cubSplineInterpECnd(x_i, y_i)\n",
    "    spline_value = list(map(lambda i: cubSplineValue(i, spline_struct), x_i))\n",
    "    \n",
    "    print(\"x    sin^2(x)    Interpolant    Error\")\n",
    "    for i in range(4*N + 1):\n",
    "        print('%13.10f    %13.10f    %13.10f    %13.10f' % (xdata[i], ydata[i], spline_value[i], abs( ydata[i] - spline_value[i] ) ))\n",
    "    \n",
    "    # Note that even in the OO-style, we use `.pyplot.figure` to create the figure.\n",
    "    fig, ax = plt.subplots()  # Create a figure and an axes.\n",
    "    ax.plot(xdata, spline_value, label='Interpolant')  # Plot some data on the axes.\n",
    "    ax.plot(xdata, ydata, label='Function')  # Plot more data on the axes...\n",
    "    ax.set_xlabel('x')  # Add an x-label to the axes.\n",
    "    ax.set_ylabel('y')  # Add a y-label to the axes.\n",
    "    ax.set_title(\"Plot N = \" + str(N))  # Add a title to the axes.\n",
    "    ax.legend()  # Add a legend.\n"
   ]
  },
  {
   "cell_type": "code",
   "execution_count": null,
   "metadata": {},
   "outputs": [],
   "source": []
  },
  {
   "cell_type": "code",
   "execution_count": null,
   "metadata": {},
   "outputs": [],
   "source": []
  }
 ],
 "metadata": {
  "kernelspec": {
   "display_name": "Python 3",
   "language": "python",
   "name": "python3"
  },
  "language_info": {
   "codemirror_mode": {
    "name": "ipython",
    "version": 3
   },
   "file_extension": ".py",
   "mimetype": "text/x-python",
   "name": "python",
   "nbconvert_exporter": "python",
   "pygments_lexer": "ipython3",
   "version": "3.8.5"
  }
 },
 "nbformat": 4,
 "nbformat_minor": 4
}
